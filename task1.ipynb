{
 "cells": [
  {
   "cell_type": "code",
   "execution_count": 1,
   "metadata": {},
   "outputs": [],
   "source": [
    "import numpy\n",
    "import torch\n",
    "import torch.nn as nn\n",
    "import torchvision.models as models\n",
    "from torchvision import datasets, transforms, utils\n",
    "from torch.utils.data import DataLoader"
   ]
  },
  {
   "cell_type": "code",
   "execution_count": 3,
   "metadata": {},
   "outputs": [],
   "source": [
    "inp_dim = 28 * 28\n",
    "hidden = 256\n",
    "out_dim = 10\n",
    "device_id = -1\n",
    "device = 'cpu' if device_id == -1 else f'cude:{device_id}' # cuda:1 id GPU\n",
    "n_epochs = 10\n",
    "batch_size = 128"
   ]
  },
  {
   "cell_type": "code",
   "execution_count": 4,
   "metadata": {},
   "outputs": [],
   "source": [
    "transform = transforms.Compose(\n",
    "    [transforms.ToTensor(),\n",
    "    transforms.Normalize((0.5), (0.5)),\n",
    "    ]\n",
    ")\n",
    "\n",
    "dataset_train = datasets.MNIST('.', \n",
    "                                train=True,\n",
    "                                download=True,\n",
    "                                transform=transform)\n",
    "trainloader = torch.utils.data.DataLoader(dataset_train, \n",
    "                                        batch_size=batch_size,\n",
    "                                        shuffle=True,\n",
    "                                        num_workers=2,\n",
    "                                        drop_last=True,)\n",
    "dataset_test = datasets.MNIST('.',\n",
    "                            train=False,\n",
    "                            download=True,\n",
    "                            transform=transform)\n",
    "testloader = torch.utils.data.DataLoader(dataset_train,\n",
    "                                        batch_size=batch_size,\n",
    "                                        shuffle=True,\n",
    "                                        num_workers=2,\n",
    "                                        drop_last=True,)"
   ]
  },
  {
   "cell_type": "code",
   "execution_count": null,
   "metadata": {},
   "outputs": [],
   "source": []
  },
  {
   "cell_type": "code",
   "execution_count": 33,
   "metadata": {},
   "outputs": [
    {
     "data": {
      "text/plain": [
       "tensor([[  0,   0,   0,   0,   0,   0,   0,   0,   0,   0,   0,   0,   0,   0,\n",
       "           0,   0,   0,   0,   0,   0,   0,   0,   0,   0,   0,   0,   0,   0],\n",
       "        [  0,   0,   0,   0,   0,   0,   0,   0,   0,   0,   0,   0,   0,   0,\n",
       "           0,   0,   0,   0,   0,   0,   0,   0,   0,   0,   0,   0,   0,   0],\n",
       "        [  0,   0,   0,   0,   0,   0,   0,   0,   0,   0,   0,   0,   0,   0,\n",
       "           0,   0,   0,   0,   0,   0,   0,   0,   0,   0,   0,   0,   0,   0],\n",
       "        [  0,   0,   0,   0,   0,   0,   0,   0,   0,   0,   0,   0,   0,   0,\n",
       "           0,   0,   0,   0,   0,   0,   0,   0,   0,   0,   0,   0,   0,   0],\n",
       "        [  0,   0,   0,   0,   0,   0,   0,   0,   0,   0,   0,   0,   0,   0,\n",
       "           0,   0,   0,   0,   0,   0,   0,   0,   0,   0,   0,   0,   0,   0],\n",
       "        [  0,   0,   0,   0,   0,   0,   0,   0,   0,   0,   0,   0,   3,  18,\n",
       "          18,  18, 126, 136, 175,  26, 166, 255, 247, 127,   0,   0,   0,   0],\n",
       "        [  0,   0,   0,   0,   0,   0,   0,   0,  30,  36,  94, 154, 170, 253,\n",
       "         253, 253, 253, 253, 225, 172, 253, 242, 195,  64,   0,   0,   0,   0],\n",
       "        [  0,   0,   0,   0,   0,   0,   0,  49, 238, 253, 253, 253, 253, 253,\n",
       "         253, 253, 253, 251,  93,  82,  82,  56,  39,   0,   0,   0,   0,   0],\n",
       "        [  0,   0,   0,   0,   0,   0,   0,  18, 219, 253, 253, 253, 253, 253,\n",
       "         198, 182, 247, 241,   0,   0,   0,   0,   0,   0,   0,   0,   0,   0],\n",
       "        [  0,   0,   0,   0,   0,   0,   0,   0,  80, 156, 107, 253, 253, 205,\n",
       "          11,   0,  43, 154,   0,   0,   0,   0,   0,   0,   0,   0,   0,   0],\n",
       "        [  0,   0,   0,   0,   0,   0,   0,   0,   0,  14,   1, 154, 253,  90,\n",
       "           0,   0,   0,   0,   0,   0,   0,   0,   0,   0,   0,   0,   0,   0],\n",
       "        [  0,   0,   0,   0,   0,   0,   0,   0,   0,   0,   0, 139, 253, 190,\n",
       "           2,   0,   0,   0,   0,   0,   0,   0,   0,   0,   0,   0,   0,   0],\n",
       "        [  0,   0,   0,   0,   0,   0,   0,   0,   0,   0,   0,  11, 190, 253,\n",
       "          70,   0,   0,   0,   0,   0,   0,   0,   0,   0,   0,   0,   0,   0],\n",
       "        [  0,   0,   0,   0,   0,   0,   0,   0,   0,   0,   0,   0,  35, 241,\n",
       "         225, 160, 108,   1,   0,   0,   0,   0,   0,   0,   0,   0,   0,   0],\n",
       "        [  0,   0,   0,   0,   0,   0,   0,   0,   0,   0,   0,   0,   0,  81,\n",
       "         240, 253, 253, 119,  25,   0,   0,   0,   0,   0,   0,   0,   0,   0],\n",
       "        [  0,   0,   0,   0,   0,   0,   0,   0,   0,   0,   0,   0,   0,   0,\n",
       "          45, 186, 253, 253, 150,  27,   0,   0,   0,   0,   0,   0,   0,   0],\n",
       "        [  0,   0,   0,   0,   0,   0,   0,   0,   0,   0,   0,   0,   0,   0,\n",
       "           0,  16,  93, 252, 253, 187,   0,   0,   0,   0,   0,   0,   0,   0],\n",
       "        [  0,   0,   0,   0,   0,   0,   0,   0,   0,   0,   0,   0,   0,   0,\n",
       "           0,   0,   0, 249, 253, 249,  64,   0,   0,   0,   0,   0,   0,   0],\n",
       "        [  0,   0,   0,   0,   0,   0,   0,   0,   0,   0,   0,   0,   0,   0,\n",
       "          46, 130, 183, 253, 253, 207,   2,   0,   0,   0,   0,   0,   0,   0],\n",
       "        [  0,   0,   0,   0,   0,   0,   0,   0,   0,   0,   0,   0,  39, 148,\n",
       "         229, 253, 253, 253, 250, 182,   0,   0,   0,   0,   0,   0,   0,   0],\n",
       "        [  0,   0,   0,   0,   0,   0,   0,   0,   0,   0,  24, 114, 221, 253,\n",
       "         253, 253, 253, 201,  78,   0,   0,   0,   0,   0,   0,   0,   0,   0],\n",
       "        [  0,   0,   0,   0,   0,   0,   0,   0,  23,  66, 213, 253, 253, 253,\n",
       "         253, 198,  81,   2,   0,   0,   0,   0,   0,   0,   0,   0,   0,   0],\n",
       "        [  0,   0,   0,   0,   0,   0,  18, 171, 219, 253, 253, 253, 253, 195,\n",
       "          80,   9,   0,   0,   0,   0,   0,   0,   0,   0,   0,   0,   0,   0],\n",
       "        [  0,   0,   0,   0,  55, 172, 226, 253, 253, 253, 253, 244, 133,  11,\n",
       "           0,   0,   0,   0,   0,   0,   0,   0,   0,   0,   0,   0,   0,   0],\n",
       "        [  0,   0,   0,   0, 136, 253, 253, 253, 212, 135, 132,  16,   0,   0,\n",
       "           0,   0,   0,   0,   0,   0,   0,   0,   0,   0,   0,   0,   0,   0],\n",
       "        [  0,   0,   0,   0,   0,   0,   0,   0,   0,   0,   0,   0,   0,   0,\n",
       "           0,   0,   0,   0,   0,   0,   0,   0,   0,   0,   0,   0,   0,   0],\n",
       "        [  0,   0,   0,   0,   0,   0,   0,   0,   0,   0,   0,   0,   0,   0,\n",
       "           0,   0,   0,   0,   0,   0,   0,   0,   0,   0,   0,   0,   0,   0],\n",
       "        [  0,   0,   0,   0,   0,   0,   0,   0,   0,   0,   0,   0,   0,   0,\n",
       "           0,   0,   0,   0,   0,   0,   0,   0,   0,   0,   0,   0,   0,   0]],\n",
       "       dtype=torch.uint8)"
      ]
     },
     "execution_count": 33,
     "metadata": {},
     "output_type": "execute_result"
    }
   ],
   "source": [
    "dataset_train.data[0]"
   ]
  },
  {
   "cell_type": "code",
   "execution_count": 5,
   "metadata": {},
   "outputs": [
    {
     "data": {
      "image/png": "[encoded data removed]",
      "text/plain": [
       "<Figure size 432x288 with 1 Axes>"
      ]
     },
     "metadata": {
      "needs_background": "light"
     },
     "output_type": "display_data"
    }
   ],
   "source": [
    "import matplotlib.pyplot as plt\n",
    "\n",
    "plt.imshow(dataset_train.data[0].detach().numpy())\n",
    "plt.show()"
   ]
  },
  {
   "cell_type": "code",
   "execution_count": 5,
   "metadata": {},
   "outputs": [],
   "source": [
    "class LinearModel(nn.Module):\n",
    "    def __init__(self, input_dim, hidden_dim, output_dim, dropout_p=0.1) -> None:\n",
    "        super().__init__()\n",
    "        self.linear1 = nn.Linear(input_dim, hidden_dim)\n",
    "        #custom init: nn.init.xavier_normal_(self.linear.weight)\n",
    "        self.do1 = nn.Dropout(dropout_p)\n",
    "        self.linear2 = nn.Linear(hidden_dim, output_dim)\n",
    "\n",
    "        self.activation = nn.ReLU()\n",
    "\n",
    "    def forward(self, x):\n",
    "        x = self.linear1(x)\n",
    "        x = self.activation(x)\n",
    "        x = self.do1(x)\n",
    "        x = self.linear2(x)\n",
    "\n",
    "        return x"
   ]
  },
  {
   "cell_type": "code",
   "execution_count": 6,
   "metadata": {},
   "outputs": [],
   "source": [
    "model = LinearModel(inp_dim, hidden, out_dim).to(device)\n",
    "model.train()\n",
    "optim = torch.optim.Adam(model.parameters())\n",
    "loss_func = nn.CrossEntropyLoss()"
   ]
  },
  {
   "cell_type": "code",
   "execution_count": null,
   "metadata": {},
   "outputs": [],
   "source": []
  },
  {
   "cell_type": "code",
   "execution_count": 13,
   "metadata": {},
   "outputs": [
    {
     "name": "stdout",
     "output_type": "stream",
     "text": [
      "epoch: 0, step: 0, loss: 2.3654801845550537\n",
      "epoch: 0, step: 200, loss: 0.3303302526473999\n",
      "epoch: 0, step: 400, loss: 0.28192397952079773\n",
      "epoch: 1, step: 0, loss: 0.3811625838279724\n",
      "epoch: 1, step: 200, loss: 0.33042198419570923\n",
      "epoch: 1, step: 400, loss: 0.20368735492229462\n",
      "epoch: 2, step: 0, loss: 0.10563197731971741\n",
      "epoch: 2, step: 200, loss: 0.15710918605327606\n",
      "epoch: 2, step: 400, loss: 0.12734121084213257\n",
      "epoch: 3, step: 0, loss: 0.18564029037952423\n",
      "epoch: 3, step: 200, loss: 0.0924237072467804\n",
      "epoch: 3, step: 400, loss: 0.10415872931480408\n",
      "epoch: 4, step: 0, loss: 0.08158305287361145\n",
      "epoch: 4, step: 200, loss: 0.12703637778759003\n",
      "epoch: 4, step: 400, loss: 0.09750518202781677\n",
      "epoch: 5, step: 0, loss: 0.13338172435760498\n",
      "epoch: 5, step: 200, loss: 0.0800875797867775\n",
      "epoch: 5, step: 400, loss: 0.151255264878273\n",
      "epoch: 6, step: 0, loss: 0.053298622369766235\n",
      "epoch: 6, step: 200, loss: 0.09417596459388733\n",
      "epoch: 6, step: 400, loss: 0.1196545735001564\n",
      "epoch: 7, step: 0, loss: 0.07288248836994171\n",
      "epoch: 7, step: 200, loss: 0.055239155888557434\n",
      "epoch: 7, step: 400, loss: 0.04250834509730339\n",
      "epoch: 8, step: 0, loss: 0.04609593376517296\n",
      "epoch: 8, step: 200, loss: 0.05797404423356056\n",
      "epoch: 8, step: 400, loss: 0.1329575926065445\n",
      "epoch: 9, step: 0, loss: 0.09984108805656433\n",
      "epoch: 9, step: 200, loss: 0.06985104084014893\n",
      "epoch: 9, step: 400, loss: 0.028019439429044724\n"
     ]
    }
   ],
   "source": [
    "# Как форм. батч\n",
    "# dataloader берет из sampler набор индексов и по этим индексам получает эл-ты из Dataset\n",
    "\n",
    "def collate_fn(data: list):\n",
    "    # data = [(pic, target)...]\n",
    "    pics = []\n",
    "    target = []\n",
    "    for item in data:\n",
    "        pics.append(numpy.array(item[0]))\n",
    "        target.append(item[1])\n",
    "    pics = torch.from_numpy(numpy.array(pics)).float() # B x W x H\n",
    "    target = torch.from_numpy(numpy.array(target)).type(torch.LongTensor)\n",
    "\n",
    "    return {\n",
    "        'data': pics.view(pics.size(0), -1), # B x 7xx преобразуем матрицу 28х28 в вектор 7хх\n",
    "        'target': target,\n",
    "        }\n",
    "        \n",
    "dataloader = DataLoader(dataset_train, \n",
    "                        batch_size, \n",
    "                        shuffle=True, \n",
    "                        collate_fn=collate_fn,\n",
    "                        drop_last = True,\n",
    "                        )\n",
    "for epoch in range(n_epochs):\n",
    "    \n",
    "    for i, batch in enumerate(dataloader):\n",
    "        optim.zero_grad()\n",
    "\n",
    "        predict = model(batch['data'].to(device))\n",
    "        loss = loss_func(predict, batch['target'].to(device))\n",
    "        loss.backward()\n",
    "        optim.step()\n",
    "        if i % 200 == 0:\n",
    "            print(f'epoch: {epoch}, step: {i}, loss: {loss.item()}')\n",
    "    #save every epoch\n",
    "    torch.save(model.state_dict(), f'./chkpt_cv1_{epoch}.pth')"
   ]
  },
  {
   "cell_type": "code",
   "execution_count": null,
   "metadata": {},
   "outputs": [],
   "source": [
    "# или так\n",
    "for epoch in range(n_epochs):\n",
    "    for i, batch in enumerate(trainloader):\n",
    "        inputs, labels = batch\n",
    "        optim.zero_grad()\n",
    "\n",
    "        predict = model(inputs.view(inputs.size(0), -1).to(device))\n",
    "        loss = loss_func(predict, labels.to(device))\n",
    "        loss.backward()\n",
    "        optim.step()\n",
    "        if i % 200 == 0:\n",
    "            print(f'epoch: {epoch}, step: {i}, loss: {loss.item()}')\n",
    "    #save every epoch\n",
    "    torch.save(model.state_dict(), f'./chkpt_cv1_{epoch}.pth')"
   ]
  },
  {
   "cell_type": "markdown",
   "metadata": {},
   "source": [
    "## Conv"
   ]
  },
  {
   "cell_type": "code",
   "execution_count": 7,
   "metadata": {},
   "outputs": [],
   "source": [
    "input_ch = 1\n",
    "hidden_ch = 128\n",
    "out_dim = 10\n",
    "device_id = -1\n",
    "device = 'cpu' if device_id == -1 else f'cuda:{device_id}'\n",
    "n_epochs = 10\n",
    "batch_size = 128"
   ]
  },
  {
   "cell_type": "code",
   "execution_count": 8,
   "metadata": {},
   "outputs": [],
   "source": [
    "class ConvBNDO(nn.Module):\n",
    "    def __init__(self, input_ch, output_ch, kernel_size, stride, padding, \n",
    "                 dropout_p=0.1):\n",
    "        super().__init__()\n",
    "        self.conv = nn.Conv2d(input_ch, output_ch, kernel_size=kernel_size, \n",
    "                              stride=stride, padding=padding)\n",
    "        self.bn = nn.BatchNorm2d(output_ch)\n",
    "        self.do = nn.Dropout(dropout_p)\n",
    "        self.activ= nn.ReLU()\n",
    "\n",
    "    def forward(self, x):\n",
    "        x = self.conv(x)\n",
    "        x = self.bn(x)\n",
    "        x = self.activ(x)\n",
    "        x = self.do(x)\n",
    "\n",
    "        return x\n",
    "\n",
    "class ConvModel(nn.Module):\n",
    "    def __init__(self, input_ch, hidden_ch, output_dim, dropout_p=0.1):\n",
    "        super().__init__()\n",
    "        self.convbn1 = ConvBNDO(input_ch, hidden_ch, kernel_size=5, stride=2, \n",
    "                                padding=2) # 28x28 -> 14x14\n",
    "        self.convbn2 = ConvBNDO(hidden_ch, hidden_ch, kernel_size=3, stride=1, \n",
    "                                padding=1)\n",
    "        self.conv = nn.Conv2d(hidden_ch, 10, kernel_size=3, stride=1, \n",
    "                                padding=1)\n",
    "        self.clf = nn.Linear(10 * 14 *14, output_dim)        \n",
    "\n",
    "    def forward(self, x):\n",
    "        x = self.convbn1(x)\n",
    "        x = self.convbn2(x)\n",
    "        x = self.conv(x)\n",
    "        x = self.clf(x.view(x.size(0), -1))\n",
    "\n",
    "        return x"
   ]
  },
  {
   "cell_type": "code",
   "execution_count": 9,
   "metadata": {},
   "outputs": [],
   "source": [
    "model_conv = ConvModel(input_ch, hidden_ch, out_dim).to(device)\n",
    "optim = torch.optim.Adam(model_conv.parameters())\n",
    "loss_func = nn.CrossEntropyLoss()"
   ]
  },
  {
   "cell_type": "code",
   "execution_count": null,
   "metadata": {},
   "outputs": [],
   "source": [
    "for epoch in range(n_epochs):\n",
    "    for i, batch in enumerate(trainloader):\n",
    "        inputs, labels = batch\n",
    "        #if epoch == 0:\n",
    "            #print(f'step {i}, size = {inputs.shape}, inputs = {inputs}')\n",
    "        optim.zero_grad()\n",
    "\n",
    "        predict = model_conv(inputs.to(device))\n",
    "        loss = loss_func(predict, labels.to(device))\n",
    "        loss.backward()\n",
    "        optim.step()\n",
    "        if i % 200 == 0:\n",
    "            print(f'epoch: {epoch}, step: {i}, loss: {loss.item()}')\n",
    "    #test model\n",
    "    for i, batch in enumerate(testloader):\n",
    "        inputs, labels = batch\n",
    "\n",
    "        model_conv.eval()\n",
    "        loss_test = 0\n",
    "        with torch.no_grad():\n",
    "            predict = model_conv(inputs.to(device))\n",
    "            loss_test += loss_func(predict, labels.to(device))\n",
    "    \n",
    "    model_conv.train()\n",
    "    # print('test loss:', loss_test / i)\n",
    "    #save every epoch\n",
    "\n",
    "    torch.save(model_conv.state_dict(), f'./chkpt_cv1_conv_{epoch}.pth')"
   ]
  },
  {
   "cell_type": "markdown",
   "metadata": {},
   "source": [
    "# Задание 1. ResNet18 on CIFAR10"
   ]
  },
  {
   "cell_type": "code",
   "execution_count": 15,
   "metadata": {},
   "outputs": [],
   "source": [
    "input_ch = 3\n",
    "hidden_ch = 128\n",
    "out_dim = 10\n",
    "device_id = 0\n",
    "device = 'cpu' if device_id == -1 else f'cuda:{device_id}'\n",
    "n_epochs = 10\n",
    "batch_size = 128"
   ]
  },
  {
   "cell_type": "code",
   "execution_count": 16,
   "metadata": {},
   "outputs": [
    {
     "name": "stdout",
     "output_type": "stream",
     "text": [
      "Files already downloaded and verified\n",
      "Files already downloaded and verified\n"
     ]
    }
   ],
   "source": [
    "transform = transforms.Compose(\n",
    "    [transforms.ToTensor(),\n",
    "     transforms.Normalize((0.5, 0.5, 0.5), (0.5, 0.5, 0.5))])\n",
    "\n",
    "\n",
    "trainset = datasets.CIFAR10(root='./data', train=True,\n",
    "                                        download=True, transform=transform)\n",
    "trainloader = torch.utils.data.DataLoader(trainset, batch_size=batch_size,\n",
    "                                          shuffle=True, num_workers=2)\n",
    "\n",
    "testset = datasets.CIFAR10(root='./data', train=False,\n",
    "                                       download=True, transform=transform)\n",
    "testloader = torch.utils.data.DataLoader(testset, batch_size=batch_size,\n",
    "                                         shuffle=False, num_workers=2)\n",
    "\n",
    "classes = ('plane', 'car', 'bird', 'cat',\n",
    "           'deer', 'dog', 'frog', 'horse', 'ship', 'truck')"
   ]
  },
  {
   "cell_type": "code",
   "execution_count": 17,
   "metadata": {},
   "outputs": [
    {
     "name": "stderr",
     "output_type": "stream",
     "text": [
      "Exception ignored in: <function _MultiProcessingDataLoaderIter.__del__ at 0x000001C5B6EB1160>\n",
      "Traceback (most recent call last):\n",
      "  File \"c:\\Users\\ciril\\anaconda3\\lib\\site-packages\\torch\\utils\\data\\dataloader.py\", line 1510, in __del__\n",
      "    self._shutdown_workers()\n",
      "  File \"c:\\Users\\ciril\\anaconda3\\lib\\site-packages\\torch\\utils\\data\\dataloader.py\", line 1468, in _shutdown_workers\n",
      "    if self._persistent_workers or self._workers_status[worker_id]:\n",
      "AttributeError: '_MultiProcessingDataLoaderIter' object has no attribute '_workers_status'\n"
     ]
    },
    {
     "data": {
      "image/png": "[encoded data removed]",
      "text/plain": [
       "<Figure size 432x288 with 1 Axes>"
      ]
     },
     "metadata": {
      "needs_background": "light"
     },
     "output_type": "display_data"
    },
    {
     "name": "stdout",
     "output_type": "stream",
     "text": [
      "horse plane cat   ship  cat   deer  plane cat   bird  cat   plane ship  horse cat   ship  cat   ship  ship  truck ship  cat   horse frog  car   bird  deer  deer  truck horse cat   ship  frog  bird  plane bird  plane truck bird  ship  truck horse truck truck horse car   horse frog  car   deer  ship  deer  ship  deer  cat   horse cat   deer  car   plane plane cat   deer  plane horse horse bird  truck cat   horse car   deer  cat   dog   truck bird  bird  deer  plane plane dog   deer  plane horse horse bird  dog   plane frog  ship  bird  deer  deer  car   frog  horse frog  dog   truck frog  cat   horse bird  truck plane car   plane car   deer  plane bird  frog  cat   dog   deer  plane ship  deer  ship  horse ship  ship  car   car   frog  frog  plane cat   ship \n"
     ]
    }
   ],
   "source": [
    "import matplotlib.pyplot as plt\n",
    "import numpy as np\n",
    "\n",
    "# functions to show an image\n",
    "\n",
    "\n",
    "def imshow(img):\n",
    "    img = img / 2 + 0.5     # unnormalize\n",
    "    npimg = img.numpy()\n",
    "    plt.imshow(np.transpose(npimg, (1, 2, 0)))\n",
    "    plt.show()\n",
    "\n",
    "\n",
    "# get some random training images\n",
    "dataiter = iter(trainloader)\n",
    "images, labels = next(dataiter)\n",
    "\n",
    "# show images\n",
    "imshow(utils.make_grid(images))\n",
    "# print labels\n",
    "print(' '.join(f'{classes[labels[j]]:5s}' for j in range(batch_size)))"
   ]
  },
  {
   "cell_type": "code",
   "execution_count": 18,
   "metadata": {},
   "outputs": [
    {
     "data": {
      "text/plain": [
       "<matplotlib.image.AxesImage at 0x1c5b8c15f70>"
      ]
     },
     "execution_count": 18,
     "metadata": {},
     "output_type": "execute_result"
    },
    {
     "data": {
      "image/png": "[encoded data removed]",
      "text/plain": [
       "<Figure size 432x288 with 1 Axes>"
      ]
     },
     "metadata": {
      "needs_background": "light"
     },
     "output_type": "display_data"
    }
   ],
   "source": [
    "plt.imshow(trainset.data[18])"
   ]
  },
  {
   "cell_type": "code",
   "execution_count": 19,
   "metadata": {},
   "outputs": [],
   "source": [
    "class ConvBNDO(nn.Module):\n",
    "    def __init__(self, input_ch, output_ch, kernel_size, stride, padding, \n",
    "                 dropout_p=0.1):\n",
    "        super().__init__()\n",
    "        self.conv = nn.Conv2d(input_ch, output_ch, kernel_size=kernel_size, \n",
    "                              stride=stride, padding=padding)\n",
    "        self.bn = nn.BatchNorm2d(output_ch)\n",
    "        self.do = nn.Dropout(dropout_p)\n",
    "        self.activ= nn.ReLU()\n",
    "\n",
    "    def forward(self, x):\n",
    "        x = self.conv(x)\n",
    "        x = self.bn(x)\n",
    "        x = self.activ(x)\n",
    "        x = self.do(x)\n",
    "\n",
    "        return x\n",
    "\n",
    "class ConvModel(nn.Module):\n",
    "    def __init__(self, input_ch, hidden_ch, output_dim, dropout_p=0.1):\n",
    "        super().__init__()\n",
    "        self.convbn1 = ConvBNDO(input_ch, hidden_ch, kernel_size=5, stride=2, \n",
    "                                padding=2) # 28x28 -> 14x14\n",
    "        self.convbn2 = ConvBNDO(hidden_ch, hidden_ch, kernel_size=3, stride=1, \n",
    "                                padding=1)\n",
    "        self.conv = nn.Conv2d(hidden_ch, 15, kernel_size=3, stride=1, \n",
    "                                padding=1)\n",
    "        self.clf = nn.Linear(15 * 14 *14, output_dim)        \n",
    "\n",
    "    def forward(self, x):\n",
    "        x = self.convbn1(x)\n",
    "        x = self.convbn2(x)\n",
    "        x = self.conv(x)\n",
    "        x = self.clf(x.view(x.size(0), -1))\n",
    "\n",
    "        return x"
   ]
  },
  {
   "cell_type": "code",
   "execution_count": 20,
   "metadata": {},
   "outputs": [],
   "source": [
    "class ResNet(nn.Module):\n",
    "    def __init__(self, input_ch, hidden_ch, output_dim):\n",
    "        super().__init__()\n",
    "        self.conv1 = nn.Conv2d(input_ch, np.int8(hidden_ch/2), kernel_size=5)\n",
    "        self.pool = nn.MaxPool2d(2, 2)\n",
    "        self.conv2 = nn.Conv2d(np.int8(hidden_ch/2), hidden_ch, kernel_size=5)\n",
    "        self.clf1 = nn.Linear(hidden_ch * 5 * 5, 120)  \n",
    "        self.clf2 = nn.Linear(120, 50) \n",
    "        self.clf3 = nn.Linear(50, output_dim)\n",
    "\n",
    "        self.activ= nn.ReLU()\n",
    "\n",
    "    def forward(self, x):\n",
    "        x = self.pool(self.activ(self.conv1(x)))\n",
    "        x = self.pool(self.activ(self.conv2(x)))\n",
    "        x = torch.flatten(x, 1) # flatten all dimensions except batch\n",
    "        x = self.activ(self.clf1(x))\n",
    "        x = self.activ(self.clf2(x))\n",
    "        x = self.clf3(x)\n",
    "\n",
    "        return x"
   ]
  },
  {
   "cell_type": "code",
   "execution_count": 21,
   "metadata": {},
   "outputs": [],
   "source": [
    "model_conv_cifar10 = ResNet(input_ch, hidden_ch, out_dim).to(device)\n",
    "optim = torch.optim.Adam(model_conv_cifar10.parameters())\n",
    "loss_func = nn.CrossEntropyLoss()"
   ]
  },
  {
   "cell_type": "code",
   "execution_count": 22,
   "metadata": {},
   "outputs": [
    {
     "name": "stdout",
     "output_type": "stream",
     "text": [
      "epoch: 0, step: 0, loss: 2.3087055683135986\n",
      "epoch: 0, step: 200, loss: 1.516778826713562\n",
      "epoch: 1, step: 0, loss: 1.2632384300231934\n",
      "epoch: 1, step: 200, loss: 1.2485922574996948\n",
      "epoch: 2, step: 0, loss: 0.9657216668128967\n",
      "epoch: 2, step: 200, loss: 0.9139910936355591\n",
      "epoch: 3, step: 0, loss: 0.8250335454940796\n",
      "epoch: 3, step: 200, loss: 0.8167731761932373\n",
      "epoch: 4, step: 0, loss: 0.7334258556365967\n",
      "epoch: 4, step: 200, loss: 0.7809369564056396\n",
      "epoch: 5, step: 0, loss: 0.6651055216789246\n",
      "epoch: 5, step: 200, loss: 0.5166763663291931\n",
      "epoch: 6, step: 0, loss: 0.6750138401985168\n",
      "epoch: 6, step: 200, loss: 0.6460297107696533\n",
      "epoch: 7, step: 0, loss: 0.5005016922950745\n",
      "epoch: 7, step: 200, loss: 0.507506251335144\n",
      "epoch: 8, step: 0, loss: 0.3713547885417938\n",
      "epoch: 8, step: 200, loss: 0.45424309372901917\n",
      "epoch: 9, step: 0, loss: 0.3602885603904724\n",
      "epoch: 9, step: 200, loss: 0.3351409137248993\n"
     ]
    }
   ],
   "source": [
    "for epoch in range(n_epochs):\n",
    "    for i, batch in enumerate(trainloader):\n",
    "        inputs, labels = batch\n",
    "        #if epoch == 0:\n",
    "            #print(f'step {i}, size = {inputs.shape}, inputs = {inputs}')\n",
    "        optim.zero_grad()\n",
    "\n",
    "        predict = model_conv_cifar10(inputs.to(device))\n",
    "        loss = loss_func(predict, labels.to(device))\n",
    "        loss.backward()\n",
    "        optim.step()\n",
    "        if i % 200 == 0:\n",
    "            print(f'epoch: {epoch}, step: {i}, loss: {loss.item()}')\n",
    "    #test model\n",
    "    for i, batch in enumerate(testloader):\n",
    "        inputs, labels = batch\n",
    "\n",
    "        model_conv_cifar10.eval()\n",
    "        loss_test = 0\n",
    "        with torch.no_grad():\n",
    "            predict = model_conv_cifar10(inputs.to(device))\n",
    "            loss_test += loss_func(predict, labels.to(device))\n",
    "    \n",
    "    model_conv_cifar10.train()\n",
    "    # print('test loss:', loss_test / i)\n",
    "    #save every epoch\n",
    "\n",
    "    torch.save(model_conv_cifar10.state_dict(), f'./chkpt_cv1_conv_c10_{epoch}.pth')"
   ]
  },
  {
   "cell_type": "code",
   "execution_count": null,
   "metadata": {},
   "outputs": [],
   "source": []
  }
 ],
 "metadata": {
  "kernelspec": {
   "display_name": "Python 3.9.7 ('base')",
   "language": "python",
   "name": "python3"
  },
  "language_info": {
   "codemirror_mode": {
    "name": "ipython",
    "version": 3
   },
   "file_extension": ".py",
   "mimetype": "text/x-python",
   "name": "python",
   "nbconvert_exporter": "python",
   "pygments_lexer": "ipython3",
   "version": "3.9.7"
  },
  "orig_nbformat": 4,
  "vscode": {
   "interpreter": {
    "hash": "d07921fcac9efc71e32baa62f54cc7cc7703180b766de90eef3b067ead514a11"
   }
  }
 },
 "nbformat": 4,
 "nbformat_minor": 2
}
